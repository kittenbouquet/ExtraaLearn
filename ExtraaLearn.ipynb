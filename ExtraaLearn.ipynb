{
 "cells": [
  {
   "cell_type": "markdown",
   "id": "AT5OogJVFbwu",
   "metadata": {
    "id": "AT5OogJVFbwu"
   },
   "source": [
    "# ExtraaLearn Project\n",
    "\n",
    "## Context\n",
    "\n",
    "The EdTech industry has been surging in the past decade immensely, and according to a forecast, the Online Education market would be worth $286.62bn by 2023 with a compound annual growth rate (CAGR) of 10.26% from 2018 to 2023. The modern era of online education has enforced a lot in its growth and expansion beyond any limit. Due to having many dominant features like ease of information sharing, personalized learning experience, transparency of assessment, etc, it is now preferable to traditional education. \n",
    "\n",
    "In the present scenario due to the Covid-19, the online education sector has witnessed rapid growth and is attracting a lot of new customers. Due to this rapid growth, many new companies have emerged in this industry. With the availability and ease of use of digital marketing resources, companies can reach out to a wider audience with their offerings. The customers who show interest in these offerings are termed as leads. There are various sources of obtaining leads for Edtech companies, like\n",
    "\n",
    "* The customer interacts with the marketing front on social media or other online platforms. \n",
    "* The customer browses the website/app and downloads the brochure\n",
    "* The customer connects through emails for more information.\n",
    "\n",
    "The company then nurtures these leads and tries to convert them to paid customers. For this, the representative from the organization connects with the lead on call or through email to share further details.\n",
    "\n",
    "## Objective\n",
    "\n",
    "ExtraaLearn is an initial stage startup that offers programs on cutting-edge technologies to students and professionals to help them upskill/reskill. With a large number of leads being generated on a regular basis, one of the issues faced by ExtraaLearn is to identify which of the leads are more likely to convert so that they can allocate resources accordingly. You, as a data scientist at ExtraaLearn, have been provided the leads data to:\n",
    "* Analyze and build an ML model to help identify which leads are more likely to convert to paid customers, \n",
    "* Find the factors driving the lead conversion process\n",
    "* Create a profile of the leads which are likely to convert\n",
    "\n",
    "\n",
    "## Data Description\n",
    "\n",
    "The data contains the different attributes of leads and their interaction details with ExtraaLearn. The detailed data dictionary is given below.\n",
    "\n",
    "\n",
    "**Data Dictionary**\n",
    "* ID: ID of the lead\n",
    "* age: Age of the lead\n",
    "* current_occupation: Current occupation of the lead. Values include 'Professional','Unemployed',and 'Student'\n",
    "* first_interaction: How did the lead first interacted with ExtraaLearn. Values include 'Website', 'Mobile App'\n",
    "* profile_completed: What percentage of profile has been filled by the lead on the website/mobile app. Values include Low - (0-50%), Medium - (50-75%), High (75-100%)\n",
    "* website_visits: How many times has a lead visited the website\n",
    "* time_spent_on_website: Total time spent on the website\n",
    "* page_views_per_visit: Average number of pages on the website viewed during the visits.\n",
    "* last_activity: Last interaction between the lead and ExtraaLearn. \n",
    "    * Email Activity: Seeking for details about program through email, Representative shared information with lead like brochure of program , etc \n",
    "    * Phone Activity: Had a Phone Conversation with representative, Had conversation over SMS with representative, etc\n",
    "    * Website Activity: Interacted on live chat with representative, Updated profile on website, etc\n",
    "\n",
    "* print_media_type1: Flag indicating whether the lead had seen the ad of ExtraaLearn in the Newspaper.\n",
    "* print_media_type2: Flag indicating whether the lead had seen the ad of ExtraaLearn in the Magazine.\n",
    "* digital_media: Flag indicating whether the lead had seen the ad of ExtraaLearn on the digital platforms.\n",
    "* educational_channels: Flag indicating whether the lead had heard about ExtraaLearn in the education channels like online forums, discussion threads, educational websites, etc.\n",
    "* referral: Flag indicating whether the lead had heard about ExtraaLearn through reference.\n",
    "* status: Flag indicating whether the lead was converted to a paid customer or not."
   ]
  },
  {
   "cell_type": "markdown",
   "id": "dirty-island",
   "metadata": {
    "id": "dirty-island"
   },
   "source": [
    "## Importing necessary libraries and data"
   ]
  },
  {
   "cell_type": "code",
   "execution_count": 36,
   "id": "statewide-still",
   "metadata": {
    "id": "statewide-still"
   },
   "outputs": [
    {
     "name": "stdout",
     "output_type": "stream",
     "text": [
      "       ID  age current_occupation first_interaction profile_completed  \\\n",
      "0  EXT001   57         Unemployed           Website              High   \n",
      "1  EXT002   56       Professional        Mobile App            Medium   \n",
      "2  EXT003   52       Professional           Website            Medium   \n",
      "3  EXT004   53         Unemployed           Website              High   \n",
      "4  EXT005   23            Student           Website              High   \n",
      "\n",
      "   website_visits  time_spent_on_website  page_views_per_visit  \\\n",
      "0               7                   1639                 1.861   \n",
      "1               2                     83                 0.320   \n",
      "2               3                    330                 0.074   \n",
      "3               4                    464                 2.057   \n",
      "4               4                    600                16.914   \n",
      "\n",
      "      last_activity print_media_type1 print_media_type2 digital_media  \\\n",
      "0  Website Activity               Yes                No           Yes   \n",
      "1  Website Activity                No                No            No   \n",
      "2  Website Activity                No                No           Yes   \n",
      "3  Website Activity                No                No            No   \n",
      "4    Email Activity                No                No            No   \n",
      "\n",
      "  educational_channels referral  status  \n",
      "0                   No       No       1  \n",
      "1                  Yes       No       0  \n",
      "2                   No       No       0  \n",
      "3                   No       No       1  \n",
      "4                   No       No       0  \n"
     ]
    }
   ],
   "source": [
    "import pandas as pd\n",
    "import numpy as np\n",
    "from sklearn.preprocessing import OneHotEncoder, StandardScaler\n",
    "from sklearn.model_selection import train_test_split\n",
    "from sklearn.tree import DecisionTreeClassifier\n",
    "from sklearn.metrics import accuracy_score, confusion_matrix, classification_report\n",
    "\n",
    "data = pd.read_csv('ExtraaLearn.csv')\n",
    "\n",
    "#check if it worked\n",
    "print(data.head())\n"
   ]
  },
  {
   "cell_type": "markdown",
   "id": "desperate-infection",
   "metadata": {
    "id": "desperate-infection"
   },
   "source": [
    "## Data Overview\n",
    "\n",
    "- Observations\n",
    "- Sanity checks"
   ]
  },
  {
   "cell_type": "code",
   "execution_count": null,
   "id": "persistent-juice",
   "metadata": {
    "id": "persistent-juice"
   },
   "outputs": [
    {
     "name": "stdout",
     "output_type": "stream",
     "text": [
      "Descriptions:\n",
      "\n",
      "                age  website_visits  time_spent_on_website  \\\n",
      "count  4612.000000     4612.000000            4612.000000   \n",
      "mean     46.201214        3.566782             724.011275   \n",
      "std      13.161454        2.829134             743.828683   \n",
      "min      18.000000        0.000000               0.000000   \n",
      "25%      36.000000        2.000000             148.750000   \n",
      "50%      51.000000        3.000000             376.000000   \n",
      "75%      57.000000        5.000000            1336.750000   \n",
      "max      63.000000       30.000000            2537.000000   \n",
      "\n",
      "       page_views_per_visit       status  \n",
      "count           4612.000000  4612.000000  \n",
      "mean               3.026126     0.298569  \n",
      "std                1.968125     0.457680  \n",
      "min                0.000000     0.000000  \n",
      "25%                2.077750     0.000000  \n",
      "50%                2.792000     0.000000  \n",
      "75%                3.756250     1.000000  \n",
      "max               18.434000     1.000000  \n",
      "\n",
      "\n",
      "Nulls:\n",
      "\n",
      " ID                       0\n",
      "age                      0\n",
      "current_occupation       0\n",
      "first_interaction        0\n",
      "profile_completed        0\n",
      "website_visits           0\n",
      "time_spent_on_website    0\n",
      "page_views_per_visit     0\n",
      "last_activity            0\n",
      "print_media_type1        0\n",
      "print_media_type2        0\n",
      "digital_media            0\n",
      "educational_channels     0\n",
      "referral                 0\n",
      "status                   0\n",
      "dtype: int64\n",
      "\n",
      "\n",
      "Column 'age' has 0 zeros.\n",
      "\n",
      "Column 'website_visits' has 174 zeros.\n",
      "\n",
      "Column 'time_spent_on_website' has 174 zeros.\n",
      "\n",
      "Column 'page_views_per_visit' has 181 zeros.\n",
      "\n",
      "Column 'status' has 3235 zeros.\n",
      "\n",
      "\n",
      "Lowest age: 18\n",
      "\n",
      "Highest age: 63\n",
      "\n",
      "\n",
      "Total number of rows in the dataset: 4612\n",
      "\n",
      "Data Types:\n",
      "\n"
     ]
    },
    {
     "data": {
      "text/plain": [
       "ID                        object\n",
       "age                        int64\n",
       "current_occupation        object\n",
       "first_interaction         object\n",
       "profile_completed         object\n",
       "website_visits             int64\n",
       "time_spent_on_website      int64\n",
       "page_views_per_visit     float64\n",
       "last_activity             object\n",
       "print_media_type1         object\n",
       "print_media_type2         object\n",
       "digital_media             object\n",
       "educational_channels      object\n",
       "referral                  object\n",
       "status                     int64\n",
       "dtype: object"
      ]
     },
     "execution_count": 29,
     "metadata": {},
     "output_type": "execute_result"
    }
   ],
   "source": [
    "print(\"Descriptions:\\n\\n\", data.describe())\n",
    "\n",
    "# count all NaN\n",
    "print(\"\\n\\nNulls:\\n\\n\", data.isnull().sum())\n",
    "\n",
    "# Iterate over numerical columns and count zeros in each\n",
    "print(\"\\n\")\n",
    "for column in data.select_dtypes(include=['int64', 'int32', 'float64', 'float32']).columns:\n",
    "    zero_count = data[column].value_counts().get(0, 0)\n",
    "    print(f\"Column '{column}' has {zero_count} zeros.\\n\")\n",
    "\n",
    "# I'm guessing the lack of web visits is from those who used the app instead?\n",
    "\n",
    "# Are there any odd ages? Find the lowest and highest value for 'age'\n",
    "min_age = data['age'].min()\n",
    "max_age = data['age'].max()\n",
    "\n",
    "print(f\"\\nLowest age: {min_age}\\n\")\n",
    "print(f\"Highest age: {max_age}\\n\\n\")\n",
    "\n",
    "# count rows, how big the dataset is\n",
    "total_rows = len(data)\n",
    "\n",
    "# Print the total number of rows\n",
    "print(f\"Total number of rows in the dataset: {total_rows}\")\n",
    "\n",
    "# List data types\n",
    "print(\"\\nData Types:\\n\")\n",
    "data.dtypes\n",
    "\n",
    "# Notes: less than 1/3 become customers (29%). It probably could be improved, but it does seem like a good\n",
    "# percent. I wonder if someone is more likely to be a customer based on referrals (obviously among other things,\n",
    "# but that's the most interesting question to me. I will answer that, among the other things.)"
   ]
  },
  {
   "cell_type": "markdown",
   "id": "seasonal-calibration",
   "metadata": {
    "id": "seasonal-calibration"
   },
   "source": [
    "## Exploratory Data Analysis (EDA)\n",
    "\n",
    "- EDA is an important part of any project involving data.\n",
    "- It is important to investigate and understand the data better before building a model with it.\n",
    "- A few questions have been mentioned below which will help you approach the analysis in the right manner and generate insights from the data.\n",
    "- A thorough analysis of the data, in addition to the questions mentioned below, should be done."
   ]
  },
  {
   "cell_type": "markdown",
   "id": "approved-brother",
   "metadata": {
    "id": "approved-brother"
   },
   "source": [
    "**Questions**\n",
    "1. Leads will have different expectations from the outcome of the course and the current occupation may play a key role in getting them to participate in the program. Find out how current occupation affects lead status.\n",
    "2. The company's first impression on the customer must have an impact. Do the first channels of interaction have an impact on the lead status? \n",
    "3. The company uses multiple modes to interact with prospects. Which way of interaction works best? \n",
    "4. The company gets leads from various channels such as print media, digital media, referrals, etc. Which of these channels have the highest lead conversion rate?\n",
    "5. People browsing the website or mobile application are generally required to create a profile by sharing their personal data before they can access additional information.Does having more details about a prospect increase the chances of conversion?"
   ]
  },
  {
   "cell_type": "code",
   "execution_count": 33,
   "id": "87690d8f",
   "metadata": {},
   "outputs": [
    {
     "name": "stdout",
     "output_type": "stream",
     "text": [
      "current_occupation\n",
      "Professional    0.355122\n",
      "Student         0.117117\n",
      "Unemployed      0.265788\n",
      "Name: status, dtype: float64\n",
      "first_interaction\n",
      "Mobile App    0.105314\n",
      "Website       0.455940\n",
      "Name: status, dtype: float64\n",
      "last_activity\n",
      "Email Activity      0.303336\n",
      "Phone Activity      0.213128\n",
      "Website Activity    0.384545\n",
      "Name: status, dtype: float64\n",
      "Conversion rates for print_media_type1:\n",
      "print_media_type1\n",
      "No     0.29599\n",
      "Yes    0.31992\n",
      "Name: status, dtype: float64\n",
      "\n",
      "\n",
      "Conversion rates for print_media_type2:\n",
      "print_media_type2\n",
      "No     0.297328\n",
      "Yes    0.321888\n",
      "Name: status, dtype: float64\n",
      "\n",
      "\n",
      "Conversion rates for digital_media:\n",
      "digital_media\n",
      "No     0.295961\n",
      "Yes    0.318786\n",
      "Name: status, dtype: float64\n",
      "\n",
      "\n",
      "Conversion rates for educational_channels:\n",
      "educational_channels\n",
      "No     0.302022\n",
      "Yes    0.279433\n",
      "Name: status, dtype: float64\n",
      "\n",
      "\n",
      "Conversion rates for referral:\n",
      "referral\n",
      "No     0.290772\n",
      "Yes    0.677419\n",
      "Name: status, dtype: float64\n",
      "\n",
      "\n",
      "profile_completed\n",
      "High      0.417845\n",
      "Low       0.074766\n",
      "Medium    0.188755\n",
      "Name: status, dtype: float64\n"
     ]
    }
   ],
   "source": [
    "# 1.\n",
    "# Group by 'current_occupation' and calculate conversion rate (status = 1)\n",
    "occupation_conversion_rate = data.groupby('current_occupation')['status'].mean()\n",
    "\n",
    "# Display the result\n",
    "print(occupation_conversion_rate)\n",
    "\n",
    "#2. \n",
    "# Group by 'first_interaction' and calculate conversion rate (status = 1)\n",
    "interaction_conversion_rate = data.groupby('first_interaction')['status'].mean()\n",
    "\n",
    "# Display the result\n",
    "print(interaction_conversion_rate)\n",
    "\n",
    "#3. \n",
    "# Group by 'last_activity' and calculate conversion rate (status = 1)\n",
    "last_activity_conversion_rate = data.groupby('last_activity')['status'].mean()\n",
    "\n",
    "# Display the result\n",
    "print(last_activity_conversion_rate)\n",
    "\n",
    "#4. \n",
    "# Group by each channel and calculate conversion rates (status = 1)\n",
    "channels_conversion_rate = {\n",
    "    'print_media_type1': data.groupby('print_media_type1')['status'].mean(),\n",
    "    'print_media_type2': data.groupby('print_media_type2')['status'].mean(),\n",
    "    'digital_media': data.groupby('digital_media')['status'].mean(),\n",
    "    'educational_channels': data.groupby('educational_channels')['status'].mean(),\n",
    "    'referral': data.groupby('referral')['status'].mean()\n",
    "}\n",
    "\n",
    "# Display the results\n",
    "for channel, conversion_rate in channels_conversion_rate.items():\n",
    "    print(f\"Conversion rates for {channel}:\")\n",
    "    print(conversion_rate)\n",
    "    print(\"\\n\")\n",
    "\n",
    "#5. \n",
    "# Group by 'profile_completed' and calculate conversion rate (status = 1)\n",
    "profile_conversion_rate = data.groupby('profile_completed')['status'].mean()\n",
    "\n",
    "# Display the result\n",
    "print(profile_conversion_rate)\n",
    "\n",
    "# Some observations: working professionals, those whose first interaction was through the website, and those\n",
    "# who were referred had a higher chance of becoming a customer. The biggest was referrals, which I was\n",
    "# curious about earlier and it should definitely be exploited by ExtraaLearn.\n",
    "# Though, taking a second glance at the data, there aren't very many referrals right now so the data on it\n",
    "# is limited by sample size. I still think it's a good prospect, but it needs more testing to confirm.\n",
    "\n",
    "# Interestingly, more leads became customers if they interacted with the website first. This could mean\n",
    "# two things: app viewers are more casual (which seems counterintuitive since it likely involves extra steps),\n",
    "# or it means the app isn't very good. I would look into that if I were working on the app team at this\n",
    "# company.\n",
    "\n",
    "# In terms of how the company interacts with leads, website seems to work best. Email isn't far off,\n",
    "# but phone calls seem to turn people away from being customers.\n",
    "\n",
    "# The media type categories are basically the same, so they seem to have little impact on the conversion rate,\n",
    "# except, surprisingly, the educational channels seem to decrease the lead chance to become a customer.\n",
    "\n",
    "# Surprisingly, profile completion doesn't seem to indicate a lead becomes a customer very often.\n",
    "# Either I would look into that, or maybe the profile is very easy to complete, which is good."
   ]
  },
  {
   "cell_type": "markdown",
   "id": "alleged-spirituality",
   "metadata": {
    "id": "alleged-spirituality"
   },
   "source": [
    "## Data Preprocessing\n",
    "\n",
    "- Missing value treatment (if needed)\n",
    "- Feature engineering (if needed)\n",
    "- Outlier detection and treatment (if needed)\n",
    "- Preparing data for modeling \n",
    "- Any other preprocessing steps (if needed)"
   ]
  },
  {
   "cell_type": "code",
   "execution_count": 64,
   "id": "increasing-louisiana",
   "metadata": {
    "id": "increasing-louisiana"
   },
   "outputs": [
    {
     "name": "stdout",
     "output_type": "stream",
     "text": [
      "Index(['ID', 'age', 'current_occupation', 'first_interaction',\n",
      "       'profile_completed', 'website_visits', 'time_spent_on_website',\n",
      "       'page_views_per_visit', 'last_activity', 'print_media_type1',\n",
      "       'print_media_type2', 'digital_media', 'educational_channels',\n",
      "       'referral', 'status', 'total_activity'],\n",
      "      dtype='object')\n",
      "['current_occupation', 'first_interaction', 'profile_completed', 'last_activity', 'educational_channels', 'referral']\n",
      "Index(['ID', 'age', 'website_visits', 'time_spent_on_website',\n",
      "       'page_views_per_visit', 'status', 'total_activity',\n",
      "       'current_occupation_Professional', 'current_occupation_Student',\n",
      "       'current_occupation_Unemployed', 'first_interaction_Mobile App',\n",
      "       'first_interaction_Website', 'profile_completed_High',\n",
      "       'profile_completed_Low', 'profile_completed_Medium',\n",
      "       'last_activity_Email Activity', 'last_activity_Phone Activity',\n",
      "       'last_activity_Website Activity', 'educational_channels_No',\n",
      "       'educational_channels_Yes', 'referral_No', 'referral_Yes'],\n",
      "      dtype='object')\n"
     ]
    }
   ],
   "source": [
    "# Check the columns before any operations\n",
    "print(df.columns)\n",
    "\n",
    "# Remove the original unwanted columns (before one-hot encoding)\n",
    "df_cleaned = df.drop(['print_media_type1', 'print_media_type2', 'digital_media'], axis=1)\n",
    "\n",
    "# Update the categorical_columns list to exclude dropped columns\n",
    "categorical_columns_updated = [col for col in categorical_columns if col in df_cleaned.columns]\n",
    "\n",
    "# Print updated categorical_columns list to verify\n",
    "print(categorical_columns_updated)\n",
    "\n",
    "# Apply one-hot encoding to the updated categorical columns\n",
    "df_encoded = pd.get_dummies(df_cleaned, columns=categorical_columns_updated, drop_first=False)\n",
    "\n",
    "# Check the resulting columns after encoding\n",
    "print(df_encoded.columns)\n",
    "\n",
    "# Prepare features (X) and target (y)\n",
    "X = df_encoded.drop(['status', 'ID'], axis=1)  # Drop target and ID\n",
    "y = df_encoded['status']  # Target variable\n",
    "\n",
    "# Split the data into training and testing sets (80% train, 20% test)\n",
    "X_train, X_test, y_train, y_test = train_test_split(X, y, test_size=0.2, random_state=42)"
   ]
  },
  {
   "cell_type": "markdown",
   "id": "amazing-fluid",
   "metadata": {
    "id": "amazing-fluid"
   },
   "source": [
    "## Building a Decision Tree model"
   ]
  },
  {
   "cell_type": "code",
   "execution_count": 65,
   "id": "6efec8c0",
   "metadata": {},
   "outputs": [
    {
     "name": "stdout",
     "output_type": "stream",
     "text": [
      "Accuracy: 0.8082340195016251\n",
      "Confusion Matrix:\n",
      "[[564  85]\n",
      " [ 92 182]]\n",
      "Classification Report:\n",
      "              precision    recall  f1-score   support\n",
      "\n",
      "           0       0.86      0.87      0.86       649\n",
      "           1       0.68      0.66      0.67       274\n",
      "\n",
      "    accuracy                           0.81       923\n",
      "   macro avg       0.77      0.77      0.77       923\n",
      "weighted avg       0.81      0.81      0.81       923\n",
      "\n"
     ]
    }
   ],
   "source": [
    "# Initialize and train the Decision Tree model\n",
    "dt_model = DecisionTreeClassifier(random_state=42)\n",
    "dt_model.fit(X_train, y_train)\n",
    "\n",
    "# Make predictions and evaluate the model\n",
    "y_pred = dt_model.predict(X_test)\n",
    "accuracy = accuracy_score(y_test, y_pred)\n",
    "conf_matrix = confusion_matrix(y_test, y_pred)\n",
    "class_report = classification_report(y_test, y_pred)\n",
    "\n",
    "# Display the results\n",
    "print(f\"Accuracy: {accuracy}\")\n",
    "print(\"Confusion Matrix:\")\n",
    "print(conf_matrix)\n",
    "print(\"Classification Report:\")\n",
    "print(class_report)\n",
    "\n",
    "# This took a really long time. When I first made the model, it wasn't as accurate as I thought it could be.\n",
    "# It was easy, it was quick, I had no trouble with it, but I just wasn't satisfied.\n",
    "# I noticed 'professional' was missing from the training data for some reason, so I fixed that because it\n",
    "# had a sizable impact on the conversion rate. I also noticed that the media types really didn't predict much\n",
    "# so I thought the model might be more accurate if I dropped them. All of the print statements in the processing\n",
    "# were because I kept getting errors that the media columns were not being dropped properly in the training\n",
    "# data, and it would look prettier if I removed them, but I've come a long way and it's been a journey\n",
    "# that I figure maybe would be more interesting if I keep in the record.\n"
   ]
  },
  {
   "cell_type": "markdown",
   "id": "limited-strengthening",
   "metadata": {
    "id": "limited-strengthening"
   },
   "source": [
    "## Model Performance evaluation and improvement"
   ]
  },
  {
   "cell_type": "markdown",
   "id": "ambient-elements",
   "metadata": {
    "id": "ambient-elements"
   },
   "source": [
    "The model is very good at predicting non-customers, but it struggles a little at predicting customers. The difference is about 85% and 65% respectively. Perhaps there are several things I could do to improve it further, such as combining website visits with time spent on website, to make it more condensed and clearer to the model.\n",
    "\n",
    "There doesn't seem to be much overfitting, though, as the accuracy is pretty close to the other scores. But that is also something that could be looked into.\n",
    "\n",
    "There are way more non-customers than there are customers in the data, which does make it hard on the model and needs tweaking to overcome.\n",
    "\n",
    "However, the false negatives and false positives are fairly low. There could be fewer, but all things considered, the model seems to do a good job."
   ]
  },
  {
   "cell_type": "markdown",
   "id": "a8c47c07",
   "metadata": {
    "id": "amazing-fluid"
   },
   "source": [
    "## Building a Random Forest model"
   ]
  },
  {
   "cell_type": "code",
   "execution_count": 66,
   "id": "8bbd87fb",
   "metadata": {},
   "outputs": [
    {
     "name": "stdout",
     "output_type": "stream",
     "text": [
      "Accuracy: 0.8743228602383532\n",
      "Confusion Matrix:\n",
      "[[607  42]\n",
      " [ 74 200]]\n",
      "Classification Report:\n",
      "              precision    recall  f1-score   support\n",
      "\n",
      "           0       0.89      0.94      0.91       649\n",
      "           1       0.83      0.73      0.78       274\n",
      "\n",
      "    accuracy                           0.87       923\n",
      "   macro avg       0.86      0.83      0.84       923\n",
      "weighted avg       0.87      0.87      0.87       923\n",
      "\n"
     ]
    }
   ],
   "source": [
    "from sklearn.ensemble import RandomForestClassifier\n",
    "from sklearn.model_selection import train_test_split\n",
    "from sklearn.metrics import accuracy_score, confusion_matrix, classification_report\n",
    "\n",
    "# Initialize and train the Random Forest model\n",
    "rf_model = RandomForestClassifier(random_state=42, n_estimators=100, max_depth=10)  # You can adjust hyperparameters\n",
    "rf_model.fit(X_train, y_train)\n",
    "\n",
    "# Make predictions and evaluate the model\n",
    "y_pred = rf_model.predict(X_test)\n",
    "accuracy = accuracy_score(y_test, y_pred)\n",
    "conf_matrix = confusion_matrix(y_test, y_pred)\n",
    "class_report = classification_report(y_test, y_pred)\n",
    "\n",
    "# Display the results\n",
    "print(f\"Accuracy: {accuracy}\")\n",
    "print(\"Confusion Matrix:\")\n",
    "print(conf_matrix)\n",
    "print(\"Classification Report:\")\n",
    "print(class_report)"
   ]
  },
  {
   "cell_type": "markdown",
   "id": "11bc14ca",
   "metadata": {},
   "source": [
    "## Model Performance evaluation and improvement"
   ]
  },
  {
   "cell_type": "markdown",
   "id": "65f89cc9",
   "metadata": {},
   "source": [
    "This model is much more accurate. It might be that the data is complex (though it doesn't appear to be), the original model did have a lot of overfitting, or the imbalance between the number of customers/non-customers makes a random forest model more reliable than a decision tree like I used before. Computationally, using a random forest model on this data set isn't an issue because it doesn't require much to run. But if this data set were huge or really complex, this might end up being an unrealistic model to use."
   ]
  },
  {
   "cell_type": "markdown",
   "id": "nasty-retailer",
   "metadata": {
    "id": "nasty-retailer"
   },
   "source": [
    "## Actionable Insights and Recommendations"
   ]
  },
  {
   "cell_type": "markdown",
   "id": "amino-prediction",
   "metadata": {
    "id": "amino-prediction"
   },
   "source": [
    "One thing I would really consider, if I worked here, would be to look more into data. The model got better when I removed their marketing efforts, but that seems like a really unlikely reality. I think the marketing either impacted very specific people, and they should look more into who it did, or the marketing team just isn't very good. Also, as mentioned before, there are very few referrals in the data, so it might be more or less impactful than the evaluation I did shows.\n",
    "\n",
    "If the referrals really are as impactful as the data shows, then there should definitely be a lot of incentive to refer others. Maybe it's something the company can display as a feature before someone becomes a customer--just to show that being a customer has its benefits outside of the product. They might attract more customers not based on referrals, and increase the number of people referred, a win-win.\n",
    "\n",
    "I would skew my focus away from students and interactions by calling/texting people. It seems these two variables are very unlikely to make a sale. Target the marketing to those who are not students (particularly those who have a job), and focus energy on the interactions through the website.\n",
    "\n",
    "Figure out why the app seems to deter people from becoming customers. If the company can't figure it out, then I would just remove it. It seems to be more detrimental, and costs money to maintain.\n",
    "\n"
   ]
  }
 ],
 "metadata": {
  "colab": {
   "collapsed_sections": [],
   "name": "ExtraaLearn_Project_Template_Notebook.ipynb",
   "provenance": []
  },
  "kernelspec": {
   "display_name": "Python 3",
   "language": "python",
   "name": "python3"
  },
  "language_info": {
   "codemirror_mode": {
    "name": "ipython",
    "version": 3
   },
   "file_extension": ".py",
   "mimetype": "text/x-python",
   "name": "python",
   "nbconvert_exporter": "python",
   "pygments_lexer": "ipython3",
   "version": "3.13.0"
  }
 },
 "nbformat": 4,
 "nbformat_minor": 5
}
